{
  "nbformat": 4,
  "nbformat_minor": 0,
  "metadata": {
    "colab": {
      "name": "nw_speedtest",
      "provenance": [],
      "collapsed_sections": [],
      "authorship_tag": "ABX9TyON4YkR58WuG/u7+KJyHi5n",
      "include_colab_link": true
    },
    "kernelspec": {
      "name": "python3",
      "display_name": "Python 3"
    },
    "language_info": {
      "name": "python"
    },
    "accelerator": "GPU"
  },
  "cells": [
    {
      "cell_type": "markdown",
      "metadata": {
        "id": "view-in-github",
        "colab_type": "text"
      },
      "source": [
        "<a href=\"https://colab.research.google.com/github/spetti/SMURF/blob/main/examples/nw_speedtest.ipynb\" target=\"_parent\"><img src=\"https://colab.research.google.com/assets/colab-badge.svg\" alt=\"Open In Colab\"/></a>"
      ]
    },
    {
      "cell_type": "code",
      "metadata": {
        "id": "wKu9M-DF-l6X"
      },
      "source": [
        "import os\n",
        "#os.environ[\"XLA_PYTHON_CLIENT_PREALLOCATE\"] = \"false\"  # add this\n",
        "#os.environ[\"XLA_PYTHON_CLIENT_ALLOCATOR\"] = \"platform\""
      ],
      "execution_count": 1,
      "outputs": []
    },
    {
      "cell_type": "code",
      "metadata": {
        "id": "yqAjWW0Jkd5x"
      },
      "source": [
        "import matplotlib.pyplot as plt\n",
        "import jax\n",
        "import jax.numpy as jnp\n",
        "import numpy as np\n",
        "import time"
      ],
      "execution_count": 2,
      "outputs": []
    },
    {
      "cell_type": "code",
      "metadata": {
        "id": "D_EfM8YQ2gCk"
      },
      "source": [
        "def clear_mem():\n",
        "  backend = jax.lib.xla_bridge.get_backend()\n",
        "  for buf in backend.live_buffers(): buf.delete()"
      ],
      "execution_count": 3,
      "outputs": []
    },
    {
      "cell_type": "code",
      "metadata": {
        "id": "hv3fWNIgZKWd"
      },
      "source": [
        "def nw_naive(temp=1.0, unroll=10, batch=True, deepblast_bug=False):\n",
        "  def sco(x, gap=0):\n",
        "    def _soft_maximum(x,axis=0):\n",
        "      return temp*jax.nn.logsumexp(x/temp,axis)\n",
        "    # fill the scoring matrix\n",
        "    def rows(pr,r):\n",
        "      def cols(pc,c):\n",
        "        # |------|-------|\n",
        "        # | pc[0]| pc[1] |\n",
        "        # |------|-------|\n",
        "        # | c[0] | c[1]  |\n",
        "        # |------|-------|\n",
        "        if deepblast_bug:\n",
        "          Align = pc[0] + c[1]\n",
        "          Right = c[0]  + c[1] + gap\n",
        "          Down  = pc[1] + c[1] + gap\n",
        "        else:\n",
        "          Align = pc[0] + c[1]\n",
        "          Right = c[0]  + gap\n",
        "          Down  = pc[1] + gap\n",
        "\n",
        "        H = _soft_maximum(jnp.stack([Align, Right, Down]))\n",
        "        return (c[0],H),H\n",
        "      pr_r = jax.lax.scan(cols,(pr[1],r[1]),(pr[0],r[0]),unroll=unroll)[1]\n",
        "      return (pr_r,r[1]), pr_r\n",
        "    if deepblast_bug:\n",
        "      ini_col = jnp.zeros(x.shape[0])\n",
        "      ini_row = jnp.zeros(x.shape[1])\n",
        "    else:\n",
        "      ini_col = gap * jnp.arange(1,x.shape[0]+1,dtype=jnp.float32)\n",
        "      ini_row = gap * jnp.arange(1,x.shape[1]+1,dtype=jnp.float32)\n",
        "    hij = jax.lax.scan(rows,(ini_row,0),(x,ini_col))[1]\n",
        "\n",
        "    return hij[-1,-1]\n",
        "  # traceback to get alignment (aka. get marginals)\n",
        "  traceback = jax.grad(sco)\n",
        "  \n",
        "  # add batch dimension\n",
        "  if batch: return jax.vmap(traceback)\n",
        "  else: return traceback"
      ],
      "execution_count": 4,
      "outputs": []
    },
    {
      "cell_type": "code",
      "metadata": {
        "id": "JRI_KrL24v7d"
      },
      "source": [
        "def nw(unroll=2):\n",
        "  # rotate matrix for vectorized dynamic-programming\n",
        "  def rotate(x, lengths, gap, temp):\n",
        "    def _ini_global(L):\n",
        "      return gap*jnp.arange(L)\n",
        "\n",
        "    a,b = x.shape\n",
        "    real_a, real_b = lengths\n",
        "    mask = (jnp.arange(a)<real_a)[:,None] * (jnp.arange(b)<real_b)[None,:]\n",
        "    \n",
        "    real_L = lengths\n",
        "    mask = jnp.pad(mask,[[1,0],[1,0]])\n",
        "    x = jnp.pad(x,[[1,0],[1,0]])\n",
        "    \n",
        "    # solution from jake vanderplas (thanks!)\n",
        "    a,b = x.shape\n",
        "    ar,br = jnp.arange(a)[::-1,None], jnp.arange(b)[None,:]\n",
        "    i,j = (br-ar)+(a-1),(ar+br)//2\n",
        "    n,m = (a+b-1),(a+b)//2\n",
        "    zero = jnp.zeros((n,m))\n",
        "    output = {\"x\":zero.at[i,j].set(x),\n",
        "              \"mask\":zero.at[i,j].set(mask),\n",
        "              \"o\":(jnp.arange(n)+a%2)%2}\n",
        "    \n",
        "    ini_a, ini_b = _ini_global(a), _ini_global(b)      \n",
        "    ini = jnp.zeros((a,b)).at[:,0].set(ini_a).at[0,:].set(ini_b)\n",
        "    output[\"ini\"] = zero.at[i,j].set(ini)\n",
        "\n",
        "    return {\"x\":output,\n",
        "            \"prev\":(jnp.zeros(m),jnp.zeros(m)),\n",
        "            \"idx\":(i,j),\n",
        "            \"mask\":mask,\n",
        "            \"L\":real_L}\n",
        "\n",
        "  # fill the scoring matrix\n",
        "  def sco(x, lengths, gap=0.0, temp=1.0):\n",
        "\n",
        "    def _logsumexp(x, axis=None, mask=None):\n",
        "      if mask is None: return jax.nn.logsumexp(x,axis=axis)\n",
        "      else: return x.max(axis) + jnp.log(jnp.sum(mask * jnp.exp(x - x.max(axis,keepdims=True)),axis=axis))\n",
        "\n",
        "    def _soft_maximum(x, axis=None, mask=None):\n",
        "      return temp*_logsumexp(x/temp, axis, mask)\n",
        "\n",
        "    def _cond(cond, true, false):\n",
        "      return cond*true + (1-cond)*false\n",
        "\n",
        "    def _step(prev, sm): \n",
        "      h2,h1 = prev   # previous two rows of scoring (hij) mtx\n",
        "      \n",
        "      Align = h2 + sm[\"x\"]\n",
        "      Turn = _cond(sm[\"o\"],jnp.pad(h1[:-1],[1,0]),jnp.pad(h1[1:],[0,1]))\n",
        "      h0 = [Align, h1+gap, Turn+gap]\n",
        "      h0 = jnp.stack(h0)\n",
        "      h0 = sm[\"mask\"] * _soft_maximum(h0,0)\n",
        "      h0 += sm[\"ini\"]\n",
        "      return (h1,h0),h0\n",
        "\n",
        "    a,b = x.shape\n",
        "    sm = rotate(x, lengths=lengths, gap=gap, temp=temp)\n",
        "    hij = jax.lax.scan(_step, sm[\"prev\"], sm[\"x\"], unroll=unroll)[-1][sm[\"idx\"]]\n",
        "\n",
        "    return hij[sm[\"L\"][0],sm[\"L\"][1]]\n",
        "\n",
        "  # traceback to get alignment (aka. get marginals)\n",
        "  traceback = jax.grad(sco)\n",
        "\n",
        "  # add batch dimension\n",
        "  return jax.vmap(traceback,(0,0,None,None))"
      ],
      "execution_count": 5,
      "outputs": []
    },
    {
      "cell_type": "code",
      "metadata": {
        "id": "AlwKE8YMB1-g"
      },
      "source": [
        "def sw(unroll=2, batch=True, NINF=-1e30):\n",
        "  '''smith-waterman (local alignment)'''\n",
        "\n",
        "  # rotate matrix for striped dynamic-programming\n",
        "  def rotate(x):   \n",
        "    # solution from jake vanderplas (thanks!)\n",
        "    a,b = x.shape\n",
        "    ar,br = jnp.arange(a)[::-1,None], jnp.arange(b)[None,:]\n",
        "    i,j = (br-ar)+(a-1),(ar+br)//2\n",
        "    n,m = (a+b-1),(a+b)//2\n",
        "    output = {\"x\":jnp.full([n,m],NINF).at[i,j].set(x), \"o\":(jnp.arange(n)+a%2)%2}\n",
        "    return output, (jnp.full(m, NINF), jnp.full(m, NINF)), (i,j)\n",
        "\n",
        "  # comute scoring (hij) matrix\n",
        "  def sco(x, lengths, gap=0, temp=1.0):\n",
        "\n",
        "    def _soft_maximum(x, axis=None, mask=None):\n",
        "      def _logsumexp(y):\n",
        "        if mask is None: return jax.nn.logsumexp(y, axis=axis)\n",
        "        else: return y.max(axis) + jnp.log(jnp.sum(mask * jnp.exp(y - y.max(axis, keepdims=True)), axis=axis))\n",
        "      return temp*_logsumexp(x/temp)\n",
        "    \n",
        "    def _cond(cond, true, false): return cond*true + (1-cond)*false\n",
        "    def _pad(x,shape): return jnp.pad(x,shape,constant_values=(NINF,NINF))\n",
        "\n",
        "    def _step(prev, sm):      \n",
        "      h2,h1 = prev   # previous two rows of scoring (hij) mtx\n",
        "      h1_T = _cond(sm[\"o\"],_pad(h1[:-1],[1,0]),_pad(h1[1:],[0,1]))\n",
        "      \n",
        "      # directions\n",
        "      Align = h2 + sm[\"x\"]\n",
        "      Turn_0 = h1 + gap\n",
        "      Turn_1 = h1_T + gap\n",
        "      Sky = sm[\"x\"]\n",
        "\n",
        "      h0 = jnp.stack([Align, Turn_0, Turn_1, Sky], -1)\n",
        "      h0 = _soft_maximum(h0, -1)\n",
        "      return (h1,h0),h0\n",
        "\n",
        "    # mask\n",
        "    a,b = x.shape\n",
        "    real_a, real_b = lengths\n",
        "    mask = (jnp.arange(a) < real_a)[:,None] * (jnp.arange(b) < real_b)[None,:]\n",
        "    x = x + NINF * (1 - mask)\n",
        "\n",
        "    sm, prev, idx = rotate(x[:-1,:-1])\n",
        "    hij = jax.lax.scan(_step, prev, sm, unroll=unroll)[-1][idx]\n",
        "    return _soft_maximum(hij + x[1:,1:], mask=mask[1:,1:])\n",
        "\n",
        "  # traceback (aka backprop) to get alignment\n",
        "  traceback = jax.grad(sco)\n",
        "\n",
        "  # add batch dimension\n",
        "  if batch: return jax.vmap(traceback,(0,0,None,None))\n",
        "  else: return traceback"
      ],
      "execution_count": 6,
      "outputs": []
    },
    {
      "cell_type": "code",
      "metadata": {
        "id": "vlMfz6xgoDbf"
      },
      "source": [
        "def test(app, app_mode=\"jax\", mode=\"len\", trials=1, add_lengths=False):\n",
        "  compile_time = []\n",
        "  run_time = []\n",
        "  for k in range(100,1000,100):\n",
        "    if mode == \"len\": shape = [128,k,k]\n",
        "    if mode == \"batch\": shape = [k,256,256]\n",
        "    if app_mode == \"jax\":\n",
        "      clear_mem()\n",
        "      data = jnp.ones(shape,dtype=jnp.float32)\n",
        "    if app_mode == \"torch\":\n",
        "      torch.cuda.empty_cache()\n",
        "      data = torch.ones(shape,dtype=torch.float32).cuda()\n",
        "\n",
        "    if add_lengths and app_mode == \"jax\":\n",
        "      if mode == \"len\":\n",
        "        lens = jnp.full((128,2),k,dtype=jnp.int32)\n",
        "      if mode == \"batch\":\n",
        "        lens = jnp.full((k,2),256,dtype=jnp.int32)\n",
        "\n",
        "    t = time.time()\n",
        "    if add_lengths and app_mode == \"jax\":\n",
        "      _ = app(data, lens, 0.0, 1.0)\n",
        "    else:\n",
        "      _ = app(data)\n",
        "    compile_time.append(time.time() - t)\n",
        "    t = time.time()\n",
        "    for _ in range(trials):\n",
        "      if add_lengths and app_mode == \"jax\":\n",
        "        _ = app(data, lens, 0.0, 1.0)\n",
        "      else:\n",
        "        _ = app(data)\n",
        "    run_time.append((time.time() - t)/trials)\n",
        "    print(k,compile_time[-1]-run_time[-1],run_time[-1])\n",
        "  return np.array([compile_time,run_time])"
      ],
      "execution_count": 7,
      "outputs": []
    },
    {
      "cell_type": "code",
      "metadata": {
        "id": "Ty4qBgBqgVK9"
      },
      "source": [
        "!pip -q install deepblast"
      ],
      "execution_count": 8,
      "outputs": []
    },
    {
      "cell_type": "code",
      "metadata": {
        "id": "js8FYk1vgzPn"
      },
      "source": [
        "import torch\n",
        "from deepblast.nw_cuda import NeedlemanWunschDecoder\n",
        "import time"
      ],
      "execution_count": 9,
      "outputs": []
    },
    {
      "cell_type": "code",
      "metadata": {
        "id": "NaQm2peIg0wo",
        "colab": {
          "base_uri": "https://localhost:8080/"
        },
        "outputId": "b60516df-be56-425a-a1a4-14bcc96976e9"
      },
      "source": [
        "needle_cuda = NeedlemanWunschDecoder(\"softmax\")\n",
        "needle_cuda.cuda()"
      ],
      "execution_count": 10,
      "outputs": [
        {
          "output_type": "execute_result",
          "data": {
            "text/plain": [
              "NeedlemanWunschDecoder()"
            ]
          },
          "metadata": {},
          "execution_count": 10
        }
      ]
    },
    {
      "cell_type": "code",
      "metadata": {
        "id": "OKDOgycjg2jQ"
      },
      "source": [
        "def forward_test(theta, gap=0):\n",
        "  theta.requires_grad_()\n",
        "  gap_mtx = torch.full_like(theta, fill_value=gap, dtype=torch.float32)\n",
        "  sco = needle_cuda(theta, gap_mtx).sum()\n",
        "  sco.backward()\n",
        "  path = theta.grad\n",
        "  return path"
      ],
      "execution_count": 11,
      "outputs": []
    },
    {
      "cell_type": "code",
      "metadata": {
        "colab": {
          "base_uri": "https://localhost:8080/"
        },
        "id": "WvQadJMkg7mS",
        "outputId": "5acdf2c3-424c-4a35-d2c8-5c5cb0ca7be1"
      },
      "source": [
        "nw_pytorch_time_fwd_len = test(forward_test, app_mode=\"torch\", mode=\"len\")"
      ],
      "execution_count": 12,
      "outputs": [
        {
          "output_type": "stream",
          "name": "stdout",
          "text": [
            "100 0.7440214157104492 0.027087926864624023\n",
            "200 0.007931709289550781 0.09360480308532715\n",
            "300 -0.00141143798828125 0.2096395492553711\n",
            "400 0.002173900604248047 0.3826141357421875\n",
            "500 -0.001550912857055664 0.6061217784881592\n",
            "600 0.001459360122680664 0.8743841648101807\n",
            "700 0.0035369396209716797 1.1967964172363281\n",
            "800 -0.0011112689971923828 1.5762219429016113\n",
            "900 0.0004761219024658203 2.006563425064087\n"
          ]
        }
      ]
    },
    {
      "cell_type": "code",
      "metadata": {
        "colab": {
          "base_uri": "https://localhost:8080/"
        },
        "id": "VVd6_O_hhEgm",
        "outputId": "748620cf-a5a4-4670-aadd-6db595ca592a"
      },
      "source": [
        "nw_pytorch_time_fwd_batch = test(forward_test, app_mode=\"torch\", mode=\"batch\")"
      ],
      "execution_count": 13,
      "outputs": [
        {
          "output_type": "stream",
          "name": "stdout",
          "text": [
            "100 0.017751455307006836 0.1475069522857666\n",
            "200 0.0007884502410888672 0.16380739212036133\n",
            "300 0.000701904296875 0.17494678497314453\n",
            "400 0.0026502609252929688 0.19242191314697266\n",
            "500 0.0005185604095458984 0.20257115364074707\n",
            "600 0.00048351287841796875 0.21465086936950684\n",
            "700 -3.409385681152344e-05 0.22414755821228027\n",
            "800 9.036064147949219e-05 0.232741117477417\n",
            "900 0.00024271011352539062 0.24182820320129395\n"
          ]
        }
      ]
    },
    {
      "cell_type": "code",
      "metadata": {
        "id": "8JrjlJh4ENJ0"
      },
      "source": [
        "torch.cuda.empty_cache()"
      ],
      "execution_count": 14,
      "outputs": []
    },
    {
      "cell_type": "code",
      "metadata": {
        "colab": {
          "base_uri": "https://localhost:8080/"
        },
        "id": "iqYOewkeoFyO",
        "outputId": "ec9a271c-9847-4c52-a1bc-9d1bc43cb417"
      },
      "source": [
        "nw_naive_jax_time_fwd_len = test(jax.jit(nw_naive()), mode=\"len\")\n",
        "nw_jax_time_fwd_len = test(jax.jit(nw()), mode=\"len\", add_lengths=True)"
      ],
      "execution_count": 15,
      "outputs": [
        {
          "output_type": "stream",
          "name": "stdout",
          "text": [
            "100 1.6804094314575195 0.15738272666931152\n",
            "200 1.7889583110809326 0.5756914615631104\n",
            "300 1.6748685836791992 1.2071900367736816\n",
            "400 1.7827200889587402 2.1250972747802734\n",
            "500 1.616607904434204 3.329932689666748\n",
            "600 1.703833818435669 4.767180681228638\n",
            "700 1.5933334827423096 6.5110390186309814\n",
            "800 1.7958364486694336 8.418237924575806\n",
            "900 1.4589629173278809 10.947627305984497\n",
            "100 1.9052269458770752 0.009003877639770508\n",
            "200 1.777158498764038 0.023798227310180664\n",
            "300 1.7581984996795654 0.04417133331298828\n",
            "400 1.8903303146362305 0.06792140007019043\n",
            "500 1.7733933925628662 0.09989356994628906\n",
            "600 1.8002498149871826 0.1349031925201416\n",
            "700 1.7404332160949707 0.17775535583496094\n",
            "800 1.7575788497924805 0.22441792488098145\n",
            "900 1.9147107601165771 0.28098249435424805\n"
          ]
        }
      ]
    },
    {
      "cell_type": "code",
      "metadata": {
        "colab": {
          "base_uri": "https://localhost:8080/"
        },
        "id": "zgRUfY4GB5oB",
        "outputId": "61258678-ec02-4813-c54a-0700caa80208"
      },
      "source": [
        "sw_jax_time_fwd_len = test(jax.jit(sw()), mode=\"len\", add_lengths=True)"
      ],
      "execution_count": 16,
      "outputs": [
        {
          "output_type": "stream",
          "name": "stdout",
          "text": [
            "100 2.4687371253967285 0.008494138717651367\n",
            "200 2.122877597808838 0.022876262664794922\n",
            "300 2.1645686626434326 0.04282045364379883\n",
            "400 2.2558205127716064 0.06867480278015137\n",
            "500 2.515486717224121 0.1055147647857666\n",
            "600 2.341676950454712 0.14378619194030762\n",
            "700 2.399528980255127 0.1937713623046875\n",
            "800 2.480354070663452 0.24724531173706055\n",
            "900 2.6173202991485596 0.30335426330566406\n"
          ]
        }
      ]
    },
    {
      "cell_type": "code",
      "metadata": {
        "id": "DxEXGfYvfYaq",
        "colab": {
          "base_uri": "https://localhost:8080/"
        },
        "outputId": "38797371-1649-47d5-8b5f-c1948ef09e7b"
      },
      "source": [
        "nw_naive_jax_time_fwd_batch = test(jax.jit(nw_naive()), mode=\"batch\")\n",
        "nw_jax_time_fwd_batch = test(jax.jit(nw()), mode=\"batch\", add_lengths=True)"
      ],
      "execution_count": 17,
      "outputs": [
        {
          "output_type": "stream",
          "name": "stdout",
          "text": [
            "100 2.3535969257354736 0.9218485355377197\n",
            "200 2.4479777812957764 0.9677252769470215\n",
            "300 2.382394552230835 0.9215891361236572\n",
            "400 2.290809154510498 0.9717299938201904\n",
            "500 2.262277603149414 0.9905514717102051\n",
            "600 2.3241055011749268 0.9770371913909912\n",
            "700 2.3250913619995117 0.9509742259979248\n",
            "800 2.3609976768493652 1.0085468292236328\n",
            "900 2.628316640853882 0.9261138439178467\n",
            "100 1.800239086151123 0.0282742977142334\n",
            "200 1.8869647979736328 0.0407257080078125\n",
            "300 1.8184409141540527 0.05592060089111328\n",
            "400 1.7787795066833496 0.06910562515258789\n",
            "500 1.8211636543273926 0.08510303497314453\n",
            "600 1.787919521331787 0.10189342498779297\n",
            "700 1.8299903869628906 0.12289118766784668\n",
            "800 2.0877950191497803 0.13897347450256348\n",
            "900 1.8062341213226318 0.15663743019104004\n"
          ]
        }
      ]
    },
    {
      "cell_type": "code",
      "metadata": {
        "colab": {
          "base_uri": "https://localhost:8080/"
        },
        "id": "IiyuJJ_4CAAR",
        "outputId": "23970384-677d-44a8-a1bc-e85c34afbcfd"
      },
      "source": [
        "sw_jax_time_fwd_batch = test(jax.jit(sw()), mode=\"batch\", add_lengths=True)"
      ],
      "execution_count": 18,
      "outputs": [
        {
          "output_type": "stream",
          "name": "stdout",
          "text": [
            "100 2.2279727458953857 0.029741287231445312\n",
            "200 2.1668035984039307 0.044835805892944336\n",
            "300 2.137260675430298 0.0605168342590332\n",
            "400 2.137781858444214 0.07698750495910645\n",
            "500 2.161875009536743 0.09531283378601074\n",
            "600 2.1458024978637695 0.11139726638793945\n",
            "700 2.1447129249572754 0.13095855712890625\n",
            "800 2.429471015930176 0.15216064453125\n",
            "900 2.1383719444274902 0.17412400245666504\n"
          ]
        }
      ]
    },
    {
      "cell_type": "code",
      "metadata": {
        "colab": {
          "base_uri": "https://localhost:8080/",
          "height": 480
        },
        "id": "2YWerJWCAPNw",
        "outputId": "d148df29-3d36-4050-fdd5-95691b928e41"
      },
      "source": [
        "plt.figure(figsize=(10,5),dpi=100)\n",
        "plt.subplot(1,2,1)\n",
        "plt.title(\"Runtime vs. batch size (length=256)\")\n",
        "plt.plot(np.arange(100,1000,100),nw_naive_jax_time_fwd_batch[1],label=\"jax-nw_naive\")\n",
        "plt.plot(np.arange(100,1000,100),nw_jax_time_fwd_batch[1],label=\"jax-nw\")\n",
        "plt.plot(np.arange(100,1000,100),sw_jax_time_fwd_batch[1],label=\"jax-sw\")\n",
        "plt.plot(np.arange(100,1000,100),nw_pytorch_time_fwd_batch[1],label=\"pytorch-cuda-deepblast\")\n",
        "plt.xlabel(\"Batch size\")\n",
        "plt.ylabel(\"Time (seconds)\")\n",
        "#plt.yscale(\"log\")\n",
        "#plt.legend()\n",
        "\n",
        "plt.subplot(1,2,2)\n",
        "plt.title(\"Runtime vs. length (batch_size=128)\")\n",
        "plt.plot(np.arange(100,1000,100),nw_naive_jax_time_fwd_len[1],label=\"jax-nw_naive\")\n",
        "plt.plot(np.arange(100,1000,100),nw_jax_time_fwd_len[1],label=\"jax-nw\")\n",
        "plt.plot(np.arange(100,1000,100),sw_jax_time_fwd_len[1],label=\"jax-sw\")\n",
        "plt.plot(np.arange(100,1000,100),nw_pytorch_time_fwd_len[1],label=\"pytorch-cuda-deepblast\")\n",
        "plt.xlabel(\"Length\")\n",
        "plt.ylabel(\"Time (seconds)\")\n",
        "#plt.yscale(\"log\")\n",
        "plt.legend()\n",
        "plt.savefig(\"speedtest.pdf\",bbox_inches='tight')"
      ],
      "execution_count": 21,
      "outputs": [
        {
          "output_type": "display_data",
          "data": {
            "image/png": "[encoded data removed]",
            "text/plain": [
              "<Figure size 1000x500 with 2 Axes>"
            ]
          },
          "metadata": {
            "needs_background": "light"
          }
        }
      ]
    },
    {
      "cell_type": "code",
      "metadata": {
        "id": "K6ABXkXpBfWw"
      },
      "source": [
        ""
      ],
      "execution_count": null,
      "outputs": []
    }
  ]
}