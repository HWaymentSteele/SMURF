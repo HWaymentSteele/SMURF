{
 "cells": [
  {
   "cell_type": "markdown",
   "metadata": {
    "colab_type": "text",
    "id": "view-in-github"
   },
   "source": [
    "<a href=\"https://colab.research.google.com/github/spetti/SMURF/blob/main/examples/af_msa_backprop.ipynb\" target=\"_parent\"><img src=\"https://colab.research.google.com/assets/colab-badge.svg\" alt=\"Open In Colab\"/></a>"
   ]
  },
  {
   "cell_type": "code",
   "execution_count": 1,
   "metadata": {
    "colab": {
     "base_uri": "https://localhost:8080/"
    },
    "id": "5CibT6to3uJf",
    "outputId": "3a4e8b64-ced3-4f15-8642-337aafd9e845"
   },
   "outputs": [
    {
     "name": "stdout",
     "output_type": "stream",
     "text": [
      "Cloning into 'af_backprop'...\n",
      "Cloning into 'SMURF'...\n"
     ]
    },
    {
     "name": "stderr",
     "output_type": "stream",
     "text": [
      "WARNING: You are using pip version 21.3.1; however, version 22.0.4 is available.\n",
      "You should consider upgrading via the '/n/home01/spetti/.conda/envs/alphafold_new/bin/python -m pip install --upgrade pip' command.\n",
      "tar: .: implausibly old time stamp 1969-12-31 19:00:00\n"
     ]
    }
   ],
   "source": [
    "%%bash\n",
    "if [ ! -d af_backprop ]; then\n",
    "  git clone https://github.com/sokrypton/af_backprop.git\n",
    "  pip -q install py3Dmol biopython ml_collections dm-haiku\n",
    "fi\n",
    "if [ ! -d SMURF ]; then\n",
    "  git clone https://github.com/spetti/SMURF.git\n",
    "fi\n",
    "if [ ! -d params ]; then\n",
    "  mkdir params\n",
    "  curl -fsSL https://storage.googleapis.com/alphafold/alphafold_params_2021-07-14.tar | tar x -C params\n",
    "fi"
   ]
  },
  {
   "cell_type": "code",
   "execution_count": 2,
   "metadata": {},
   "outputs": [
    {
     "name": "stdout",
     "output_type": "stream",
     "text": [
      "nvcc: NVIDIA (R) Cuda compiler driver\r\n",
      "Copyright (c) 2005-2020 NVIDIA Corporation\r\n",
      "Built on Tue_Sep_15_19:10:02_PDT_2020\r\n",
      "Cuda compilation tools, release 11.1, V11.1.74\r\n",
      "Build cuda_11.1.TC455_06.29069683_0\r\n"
     ]
    }
   ],
   "source": [
    "! nvcc --version"
   ]
  },
  {
   "cell_type": "code",
   "execution_count": 1,
   "metadata": {
    "id": "IDKvIn0r3uJh"
   },
   "outputs": [
    {
     "name": "stderr",
     "output_type": "stream",
     "text": [
      "/n/home01/spetti/.conda/envs/alphafold_new/lib/python3.7/site-packages/jax/experimental/optimizers.py:30: FutureWarning: jax.experimental.optimizers is deprecated, import jax.example_libraries.optimizers instead\n",
      "  FutureWarning)\n"
     ]
    }
   ],
   "source": [
    "import os\n",
    "import jax\n",
    "import jax.numpy as jnp\n",
    "from jax.example_libraries.optimizers import adam\n",
    "import pickle\n",
    "import pandas as pd\n",
    "import numpy as np\n",
    "import matplotlib.pyplot as plt\n",
    "\n",
    "import sys\n",
    "sys.path.append('af_backprop')\n",
    "sys.path.append('SMURF')\n",
    "from utils import *\n",
    "\n",
    "import laxy\n",
    "import sw_functions as sw\n",
    "import network_functions as nf\n",
    "\n",
    "# import libraries\n",
    "from alphafold.common import protein\n",
    "from alphafold.data import pipeline\n",
    "from alphafold.model import data, config, model\n",
    "from alphafold.data import parsers\n",
    "from alphafold.model import all_atom"
   ]
  },
  {
   "cell_type": "code",
   "execution_count": 2,
   "metadata": {},
   "outputs": [],
   "source": [
    "#os.environ[\"XLA_FLAGS\"] = \"--xla_gpu_cuda_data_dir=/n/helmod/apps/centos7/Core/cuda/11.1.0-fasrc01\"\n",
    "#os.environ[\"TF_CPP_MIN_LOG_LEVEL\"]= \"0\""
   ]
  },
  {
   "cell_type": "code",
   "execution_count": 3,
   "metadata": {},
   "outputs": [
    {
     "name": "stdout",
     "output_type": "stream",
     "text": [
      "Fri Mar 18 12:41:33 2022       \r\n",
      "+-----------------------------------------------------------------------------+\r\n",
      "| NVIDIA-SMI 470.57.02    Driver Version: 470.57.02    CUDA Version: 11.4     |\r\n",
      "|-------------------------------+----------------------+----------------------+\r\n",
      "| GPU  Name        Persistence-M| Bus-Id        Disp.A | Volatile Uncorr. ECC |\r\n",
      "| Fan  Temp  Perf  Pwr:Usage/Cap|         Memory-Usage | GPU-Util  Compute M. |\r\n",
      "|                               |                      |               MIG M. |\r\n",
      "|===============================+======================+======================|\r\n",
      "|   0  Tesla V100-SXM2...  On   | 00000000:1A:00.0 Off |                    0 |\r\n",
      "| N/A   41C    P0    43W / 300W |      3MiB / 32510MiB |      0%      Default |\r\n",
      "|                               |                      |                  N/A |\r\n",
      "+-------------------------------+----------------------+----------------------+\r\n",
      "                                                                               \r\n",
      "+-----------------------------------------------------------------------------+\r\n",
      "| Processes:                                                                  |\r\n",
      "|  GPU   GI   CI        PID   Type   Process name                  GPU Memory |\r\n",
      "|        ID   ID                                                   Usage      |\r\n",
      "|=============================================================================|\r\n",
      "|  No running processes found                                                 |\r\n",
      "+-----------------------------------------------------------------------------+\r\n"
     ]
    }
   ],
   "source": [
    "! nvidia-smi"
   ]
  },
  {
   "cell_type": "code",
   "execution_count": 4,
   "metadata": {
    "id": "crPXsZhg3uJi"
   },
   "outputs": [],
   "source": [
    "def get_feat(filename, alphabet=\"ARNDCQEGHILKMFPSTWYV\"):\n",
    "  '''\n",
    "  Given A3M file (from hhblits)\n",
    "  return MSA (aligned), MS (unaligned) and ALN (alignment)\n",
    "  '''\n",
    "  def parse_fasta(filename):\n",
    "    '''function to parse fasta file'''    \n",
    "    header, sequence = [],[]\n",
    "    lines = open(filename, \"r\")\n",
    "    for line in lines:\n",
    "      line = line.rstrip()\n",
    "      if len(line) == 0: pass\n",
    "      else:\n",
    "        if line[0] == \">\":\n",
    "          header.append(line[1:])\n",
    "          sequence.append([])\n",
    "        else:\n",
    "          sequence[-1].append(line)\n",
    "    lines.close()\n",
    "    sequence = [''.join(seq) for seq in sequence]\n",
    "    return header, sequence\n",
    "\n",
    "  names, seqs = parse_fasta(filename)  \n",
    "  a2n = {a:n for n,a in enumerate(alphabet)}\n",
    "  def get_seqref(x):\n",
    "    n,seq,ref,aligned_seq = 0,[],[],[]\n",
    "    for aa in list(x):\n",
    "      if aa != \"-\":\n",
    "        seq.append(a2n.get(aa.upper(),-1))\n",
    "        if aa.islower(): ref.append(-1); n -= 1\n",
    "        else: ref.append(n); aligned_seq.append(seq[-1])\n",
    "      else: aligned_seq.append(-1)\n",
    "      n += 1\n",
    "    return seq, ref, aligned_seq\n",
    "  \n",
    "  # get the multiple sequence alignment\n",
    "  max_len = 0\n",
    "  ms, aln, msa = [],[],[]\n",
    "  for seq in seqs:\n",
    "    seq_,ref_,aligned_seq_ = get_seqref(seq)\n",
    "    if len(seq_) > max_len: max_len = len(seq_)\n",
    "    ms.append(seq_)\n",
    "    msa.append(aligned_seq_)\n",
    "    aln.append(ref_)\n",
    "  \n",
    "  return msa, ms, aln"
   ]
  },
  {
   "cell_type": "code",
   "execution_count": 5,
   "metadata": {
    "id": "_bNve2zJ3uJj"
   },
   "outputs": [],
   "source": [
    "def prep_inputs(DOM, restrict_to = None):\n",
    "  a3m_file = f\"SMURF/examples/CASP_examples/{DOM}.mmseqs.id90cov75.a3m\"\n",
    "  _, ms, aln = get_feat(a3m_file)\n",
    "  if restrict_to is not None:\n",
    "    ms = [ms[_] for _ in restrict_to]\n",
    "    aln = [aln[_] for _ in restrict_to]\n",
    "  lens = np.asarray([len(m) for m in ms])\n",
    "  ms = nf.one_hot(nf.pad_max(ms))\n",
    "  aln = nf.one_hot(nf.pad_max(aln))\n",
    "  N = len(ms)\n",
    "  protein_obj = protein.from_pdb_string(pdb_to_string(f\"SMURF/examples/CASP_examples/{DOM}.pdb\"))\n",
    "  batch = {'aatype': protein_obj.aatype,\n",
    "          'all_atom_positions': protein_obj.atom_positions,\n",
    "          'all_atom_mask': protein_obj.atom_mask}\n",
    "  batch.update(all_atom.atom37_to_frames(**batch)) # for fape calculcation\n",
    "  msa, mtx = parsers.parse_a3m(open(a3m_file,\"r\").read())\n",
    "  if restrict_to is not None:\n",
    "    msa = [msa[_] for _ in restrict_to]\n",
    "    mtx = [mtx[_] for _ in restrict_to]\n",
    "  feature_dict = {\n",
    "      **pipeline.make_sequence_features(sequence=msa[0],description=\"none\",num_res=len(msa[0])),\n",
    "      **pipeline.make_msa_features(msas=[msa], deletion_matrices=[mtx])\n",
    "  }\n",
    "  feature_dict[\"residue_index\"] = protein_obj.residue_index\n",
    "  return {\"N\":N,\"lens\":lens,\n",
    "          \"ms\":ms,\"aln\":aln,\n",
    "          \"feature_dict\":feature_dict,\n",
    "          \"protein_obj\":protein_obj, \"batch\":batch}"
   ]
  },
  {
   "cell_type": "code",
   "execution_count": 6,
   "metadata": {
    "id": "GDV2dWQD3uJk"
   },
   "outputs": [],
   "source": [
    "def get_model_runner(num_seq, model_name=\"model_3_ptm\", dropout=False, backprop_recycles=False, is_training = False, mask = False):\n",
    "  # setup which model params to use\n",
    "  model_config = config.model_config(model_name)\n",
    "  model_config.model.global_config.use_remat = True\n",
    "\n",
    "  model_config.model.num_recycle = 3\n",
    "  model_config.data.common.num_recycle = 3\n",
    "\n",
    "  model_config.data.eval.max_msa_clusters = num_seq\n",
    "  model_config.data.common.max_extra_msa = 1\n",
    "  if not mask:\n",
    "    model_config.data.eval.masked_msa_replace_fraction = 0\n",
    "\n",
    "  # backprop through recycles\n",
    "  model_config.model.backprop_recycle = backprop_recycles\n",
    "  model_config.model.embeddings_and_evoformer.backprop_dgram = backprop_recycles\n",
    "\n",
    "  if not dropout:\n",
    "    model_config = set_dropout(model_config,0)\n",
    "\n",
    "  # setup model\n",
    "  model_params = data.get_model_haiku_params(model_name=model_name, data_dir=\".\")\n",
    "  model_runner = model.RunModel(model_config, model_params, is_training=is_training)\n",
    "  return model_runner, model_params"
   ]
  },
  {
   "cell_type": "code",
   "execution_count": 7,
   "metadata": {},
   "outputs": [],
   "source": [
    "class model_d():\n",
    "    def __init__(self, dropout = False, backprop_recycles = False, mask = False):\n",
    "        self.dropout = False\n",
    "        self.backprop_recycles = False\n",
    "        self.models = {}\n",
    "        self.mask = mask\n",
    "    def make_model_w_input_size(self,n):\n",
    "        if n not in self.models.keys():\n",
    "            self.models[n] = get_model_runner(n, dropout=self.dropout, backprop_recycles=self.backprop_recycles, mask= self.mask)"
   ]
  },
  {
   "cell_type": "code",
   "execution_count": 8,
   "metadata": {},
   "outputs": [],
   "source": [
    "def drop_and_run_af(model_d, DOM, restrict_to = None, mod_msa = None, seed = 0):\n",
    "    key = jax.random.PRNGKey(seed)\n",
    "    INPUTS = prep_inputs(DOM, restrict_to = restrict_to)\n",
    "    model_d.make_model_w_input_size(INPUTS[\"N\"])\n",
    "    model_runner, model_params = model_d.models[INPUTS[\"N\"]]\n",
    "    af_inputs = model_runner.process_features(INPUTS[\"feature_dict\"], random_seed=seed)\n",
    "    if mod_msa is not None:\n",
    "        if restrict_to is not None:\n",
    "            mod_msa = mod_msa[restrict_to,...]\n",
    "        af_inputs[\"msa_feat\"] = jnp.zeros_like(af_inputs[\"msa_feat\"]).at[...,0:22].set(mod_msa).at[...,25:47].set(mod_msa)\n",
    "    af_outputs = model_runner.apply(model_params, key, af_inputs)\n",
    "    return af_inputs, af_outputs"
   ]
  },
  {
   "cell_type": "code",
   "execution_count": 9,
   "metadata": {},
   "outputs": [],
   "source": [
    "def rmsd(INPUTS, outputs):\n",
    "    return jnp_rmsd(INPUTS[\"protein_obj\"].atom_positions[:,1,:],\n",
    "                         outputs[\"structure_module\"][\"final_atom_positions\"][:,1,:]).item()\n",
    "\n",
    "def mean_plddt(outputs):\n",
    "    return jnp.mean(get_plddt(outputs)).item()"
   ]
  },
  {
   "cell_type": "code",
   "execution_count": 10,
   "metadata": {},
   "outputs": [],
   "source": [
    "def plot_plddt_per_pos( output):\n",
    "    ps = get_plddt(output)\n",
    "    plt.scatter(range(ps.shape[0]), ps)\n",
    "    plt.xlabel(\"position\")\n",
    "    plt.ylabel(\"plddt\")"
   ]
  },
  {
   "cell_type": "code",
   "execution_count": 11,
   "metadata": {},
   "outputs": [],
   "source": [
    "def drop_each_seq(model_d, DOM, mod_msa=None):\n",
    "    rmsds = []\n",
    "    plddts = []\n",
    "    mean_plddts = []\n",
    "    outputs = []\n",
    "    INPUTS = prep_inputs(DOM) # just to get num seq and structure\n",
    "    for i in range(1,INPUTS[\"N\"]):\n",
    "        print(f\"removing seq {i}\")\n",
    "        restrict_to = [_ for _ in range(INPUTS[\"N\"]) if _!= i]\n",
    "        _, output = drop_and_run_af(model_d, DOM, restrict_to = restrict_to, mod_msa = mod_msa, seed = 0)\n",
    "        rmsds.append(rmsd(INPUTS, output))\n",
    "        mean_plddts.append(mean_plddt(output))\n",
    "        plddts.append(get_plddt(output))\n",
    "        outputs.append(output)\n",
    "    dout = {}\n",
    "    dout[\"rmsds\"] = rmsds\n",
    "    dout[\"plddts\"] = plddts\n",
    "    dout[\"mean_plddts\"] = mean_plddts\n",
    "    dout[\"outputs\"] = outputs\n",
    "    return dout"
   ]
  },
  {
   "cell_type": "code",
   "execution_count": 12,
   "metadata": {},
   "outputs": [],
   "source": [
    "def restrict_and_print_error(md, DOM,  restrict_to_combos, mod_msa= None):\n",
    "    if mod_msa is not None:\n",
    "        print(\"for our MSA\\n\")\n",
    "    else:\n",
    "        print(\"for MMSEQS MSA\\n\")\n",
    "    for restrict_to in restrict_to_combos:\n",
    "        _, outputs_rt = drop_and_run_af(md, DOM, restrict_to = restrict_to, mod_msa = mod_msa)\n",
    "        print(f\"restrict to seqs: {restrict_to}, RMSD: {rmsd(INPUTS,outputs_rt):.2f}, PLDDT: {mean_plddt(outputs_rt):.2f}\")\n",
    "    return rmsd(INPUTS,outputs_rt)"
   ]
  },
  {
   "cell_type": "code",
   "execution_count": 13,
   "metadata": {},
   "outputs": [],
   "source": [
    "def scatter_by_eval(evals, d_init, d_opt, INPUTS, output_opt_msa, output_init_msa, legend = False, title= None, v= None, xrange =(1e-140, 10), yrange = (1,17)):\n",
    "    plt.figure(figsize = (5,5))\n",
    "    plt.rcParams.update({'font.size': 18})\n",
    "    mi = xrange[0]\n",
    "    mL = xrange[1]\n",
    "    if v is not None:\n",
    "        plt.vlines(v,yrange[0]+1, yrange[1]-1, color = 'black', linestyle='dashed')\n",
    "        \n",
    "    plt.scatter(evals, d_init[\"rmsds\"], label=\"MMSeqs2 MSA\", s = 30, alpha = .5)\n",
    "    plt.hlines(rmsd(INPUTS, output_init_msa), mi, mL)\n",
    "    plt.scatter(evals, d_opt[\"rmsds\"], label=\"Learned MSA\", marker = 'D', s = 30, alpha = .5)\n",
    "    plt.hlines(rmsd(INPUTS, output_opt_msa), mi, mL, color = 'tab:orange')\n",
    "    plt.yticks([2,4,6,8,10,12,14,16],[2,4,6,8,10,12,14,16])\n",
    "    plt.xscale('log')\n",
    "    plt.xlabel(f\"E-value of seq\")\n",
    "    plt.ylabel(f\"RMSD without seq\")\n",
    "    plt.grid(axis = 'y')\n",
    "    if legend: plt.legend(fontsize = 12)\n",
    "    if title is not None:\n",
    "        plt.title(title, fontsize = 18)\n",
    "    \n",
    "\n",
    "    plt.savefig(f\"../figures/{title}_drop_one_new.svg\", bbox_inches='tight')\n",
    "    \n",
    "\n",
    "\n",
    "    plt.show()\n"
   ]
  },
  {
   "cell_type": "code",
   "execution_count": 14,
   "metadata": {},
   "outputs": [],
   "source": [
    "eval_lists ={}\n",
    "for DOM in [\"T1039-D1\",\"T1064-D1\",\"T1070-D1\"]:    \n",
    "    a3m_file = f\"SMURF/examples/CASP_examples/{DOM}.mmseqs.id90cov75.a3m\"\n",
    "    evals = []\n",
    "    fh = open(a3m_file, \"r\")\n",
    "    for line in fh.readlines():\n",
    "        if line[0]=='>':\n",
    "            l = line.split()\n",
    "            if len(l)<4 and len(evals)>0:\n",
    "                raise ValueError(\"e value missing\")\n",
    "            if len(l)==1 and len(evals)==0:\n",
    "                evals.append(0)\n",
    "            else:\n",
    "                evals.append(float(l[3]))\n",
    "    eval_lists[DOM]= evals"
   ]
  },
  {
   "cell_type": "markdown",
   "metadata": {},
   "source": [
    "# Sensitivity to mask"
   ]
  },
  {
   "cell_type": "code",
   "execution_count": 16,
   "metadata": {},
   "outputs": [
    {
     "name": "stdout",
     "output_type": "stream",
     "text": [
      "DOM: T1070-D1, RMSD: 4.35, PLDDT: 0.62\n",
      "DOM: T1070-D1, RMSD: 4.65, PLDDT: 0.68\n",
      "DOM: T1070-D1, RMSD: 4.51, PLDDT: 0.62\n",
      "DOM: T1070-D1, RMSD: 8.08, PLDDT: 0.64\n",
      "DOM: T1070-D1, RMSD: 9.11, PLDDT: 0.65\n",
      "DOM: T1070-D1, RMSD: 9.14, PLDDT: 0.63\n",
      "DOM: T1070-D1, RMSD: 8.09, PLDDT: 0.63\n",
      "DOM: T1070-D1, RMSD: 7.49, PLDDT: 0.63\n",
      "DOM: T1070-D1, RMSD: 10.14, PLDDT: 0.65\n",
      "DOM: T1070-D1, RMSD: 4.32, PLDDT: 0.63\n",
      "DOM: T1070-D1, RMSD: 3.90, PLDDT: 0.73\n",
      "DOM: T1070-D1, RMSD: 7.99, PLDDT: 0.63\n",
      "DOM: T1070-D1, RMSD: 10.42, PLDDT: 0.62\n",
      "DOM: T1070-D1, RMSD: 9.92, PLDDT: 0.64\n",
      "DOM: T1070-D1, RMSD: 4.35, PLDDT: 0.69\n",
      "DOM: T1070-D1, RMSD: 12.18, PLDDT: 0.67\n",
      "DOM: T1070-D1, RMSD: 8.09, PLDDT: 0.63\n",
      "DOM: T1070-D1, RMSD: 7.74, PLDDT: 0.65\n",
      "DOM: T1070-D1, RMSD: 4.10, PLDDT: 0.62\n",
      "DOM: T1070-D1, RMSD: 7.72, PLDDT: 0.62\n",
      "DOM: T1070-D1, RMSD: 10.40, PLDDT: 0.63\n",
      "DOM: T1070-D1, RMSD: 6.85, PLDDT: 0.62\n",
      "DOM: T1070-D1, RMSD: 7.65, PLDDT: 0.64\n",
      "DOM: T1070-D1, RMSD: 7.35, PLDDT: 0.63\n",
      "DOM: T1070-D1, RMSD: 10.49, PLDDT: 0.66\n",
      "DOM: T1070-D1, RMSD: 7.17, PLDDT: 0.62\n",
      "DOM: T1070-D1, RMSD: 3.35, PLDDT: 0.66\n",
      "DOM: T1070-D1, RMSD: 3.80, PLDDT: 0.64\n",
      "DOM: T1070-D1, RMSD: 7.17, PLDDT: 0.69\n",
      "DOM: T1070-D1, RMSD: 7.61, PLDDT: 0.63\n",
      "DOM: T1070-D1, RMSD: 7.78, PLDDT: 0.63\n",
      "DOM: T1070-D1, RMSD: 7.93, PLDDT: 0.64\n",
      "DOM: T1070-D1, RMSD: 3.56, PLDDT: 0.70\n",
      "DOM: T1070-D1, RMSD: 7.99, PLDDT: 0.63\n",
      "DOM: T1070-D1, RMSD: 8.03, PLDDT: 0.63\n",
      "DOM: T1070-D1, RMSD: 9.47, PLDDT: 0.64\n",
      "DOM: T1070-D1, RMSD: 7.43, PLDDT: 0.69\n",
      "DOM: T1070-D1, RMSD: 7.68, PLDDT: 0.63\n",
      "DOM: T1070-D1, RMSD: 8.03, PLDDT: 0.63\n",
      "DOM: T1070-D1, RMSD: 10.37, PLDDT: 0.67\n",
      "DOM: T1070-D1, RMSD: 3.43, PLDDT: 0.67\n",
      "DOM: T1070-D1, RMSD: 8.88, PLDDT: 0.65\n",
      "DOM: T1070-D1, RMSD: 3.39, PLDDT: 0.77\n",
      "DOM: T1070-D1, RMSD: 7.49, PLDDT: 0.66\n",
      "DOM: T1070-D1, RMSD: 7.42, PLDDT: 0.68\n",
      "DOM: T1070-D1, RMSD: 4.73, PLDDT: 0.68\n",
      "DOM: T1070-D1, RMSD: 10.00, PLDDT: 0.67\n",
      "DOM: T1070-D1, RMSD: 7.49, PLDDT: 0.65\n",
      "DOM: T1070-D1, RMSD: 3.41, PLDDT: 0.74\n",
      "DOM: T1070-D1, RMSD: 8.61, PLDDT: 0.70\n",
      "DOM: T1039-D1, RMSD: 12.62, PLDDT: 0.49\n",
      "DOM: T1039-D1, RMSD: 11.95, PLDDT: 0.48\n",
      "DOM: T1039-D1, RMSD: 19.18, PLDDT: 0.48\n",
      "DOM: T1039-D1, RMSD: 9.72, PLDDT: 0.47\n",
      "DOM: T1039-D1, RMSD: 16.56, PLDDT: 0.44\n",
      "DOM: T1039-D1, RMSD: 11.62, PLDDT: 0.45\n",
      "DOM: T1039-D1, RMSD: 7.26, PLDDT: 0.50\n",
      "DOM: T1039-D1, RMSD: 17.21, PLDDT: 0.48\n",
      "DOM: T1039-D1, RMSD: 9.48, PLDDT: 0.49\n",
      "DOM: T1039-D1, RMSD: 5.88, PLDDT: 0.49\n",
      "DOM: T1039-D1, RMSD: 14.70, PLDDT: 0.46\n",
      "DOM: T1039-D1, RMSD: 6.74, PLDDT: 0.53\n",
      "DOM: T1039-D1, RMSD: 7.08, PLDDT: 0.50\n",
      "DOM: T1039-D1, RMSD: 12.05, PLDDT: 0.47\n",
      "DOM: T1039-D1, RMSD: 8.70, PLDDT: 0.51\n",
      "DOM: T1039-D1, RMSD: 18.32, PLDDT: 0.52\n",
      "DOM: T1039-D1, RMSD: 8.05, PLDDT: 0.50\n",
      "DOM: T1039-D1, RMSD: 9.54, PLDDT: 0.45\n",
      "DOM: T1039-D1, RMSD: 12.44, PLDDT: 0.53\n",
      "DOM: T1039-D1, RMSD: 6.50, PLDDT: 0.51\n",
      "DOM: T1039-D1, RMSD: 18.48, PLDDT: 0.47\n",
      "DOM: T1039-D1, RMSD: 12.02, PLDDT: 0.46\n",
      "DOM: T1039-D1, RMSD: 12.32, PLDDT: 0.48\n",
      "DOM: T1039-D1, RMSD: 19.33, PLDDT: 0.44\n",
      "DOM: T1039-D1, RMSD: 6.49, PLDDT: 0.48\n",
      "DOM: T1039-D1, RMSD: 10.99, PLDDT: 0.49\n",
      "DOM: T1039-D1, RMSD: 6.47, PLDDT: 0.52\n",
      "DOM: T1039-D1, RMSD: 19.50, PLDDT: 0.47\n",
      "DOM: T1039-D1, RMSD: 7.95, PLDDT: 0.48\n",
      "DOM: T1039-D1, RMSD: 15.40, PLDDT: 0.49\n",
      "DOM: T1039-D1, RMSD: 18.76, PLDDT: 0.50\n",
      "DOM: T1039-D1, RMSD: 18.52, PLDDT: 0.47\n",
      "DOM: T1039-D1, RMSD: 11.82, PLDDT: 0.48\n",
      "DOM: T1039-D1, RMSD: 12.91, PLDDT: 0.47\n",
      "DOM: T1039-D1, RMSD: 13.67, PLDDT: 0.46\n",
      "DOM: T1039-D1, RMSD: 7.42, PLDDT: 0.49\n",
      "DOM: T1039-D1, RMSD: 7.45, PLDDT: 0.51\n",
      "DOM: T1039-D1, RMSD: 6.46, PLDDT: 0.50\n",
      "DOM: T1039-D1, RMSD: 18.44, PLDDT: 0.44\n",
      "DOM: T1039-D1, RMSD: 13.73, PLDDT: 0.49\n",
      "DOM: T1039-D1, RMSD: 11.24, PLDDT: 0.50\n",
      "DOM: T1039-D1, RMSD: 14.78, PLDDT: 0.49\n",
      "DOM: T1039-D1, RMSD: 13.71, PLDDT: 0.45\n",
      "DOM: T1039-D1, RMSD: 19.34, PLDDT: 0.43\n",
      "DOM: T1039-D1, RMSD: 6.27, PLDDT: 0.47\n",
      "DOM: T1039-D1, RMSD: 15.39, PLDDT: 0.43\n",
      "DOM: T1039-D1, RMSD: 19.49, PLDDT: 0.45\n",
      "DOM: T1039-D1, RMSD: 11.91, PLDDT: 0.50\n",
      "DOM: T1039-D1, RMSD: 12.69, PLDDT: 0.46\n",
      "DOM: T1039-D1, RMSD: 6.93, PLDDT: 0.51\n",
      "DOM: T1038-D1, RMSD: 2.36, PLDDT: 0.83\n",
      "DOM: T1038-D1, RMSD: 8.96, PLDDT: 0.56\n",
      "DOM: T1038-D1, RMSD: 8.09, PLDDT: 0.55\n",
      "DOM: T1038-D1, RMSD: 5.06, PLDDT: 0.65\n",
      "DOM: T1038-D1, RMSD: 9.45, PLDDT: 0.68\n",
      "DOM: T1038-D1, RMSD: 3.61, PLDDT: 0.76\n",
      "DOM: T1038-D1, RMSD: 13.60, PLDDT: 0.48\n",
      "DOM: T1038-D1, RMSD: 8.43, PLDDT: 0.63\n",
      "DOM: T1038-D1, RMSD: 8.22, PLDDT: 0.69\n",
      "DOM: T1038-D1, RMSD: 13.83, PLDDT: 0.64\n",
      "DOM: T1038-D1, RMSD: 6.76, PLDDT: 0.69\n",
      "DOM: T1038-D1, RMSD: 6.07, PLDDT: 0.73\n",
      "DOM: T1038-D1, RMSD: 3.99, PLDDT: 0.71\n",
      "DOM: T1038-D1, RMSD: 2.55, PLDDT: 0.74\n",
      "DOM: T1038-D1, RMSD: 2.07, PLDDT: 0.84\n",
      "DOM: T1038-D1, RMSD: 1.88, PLDDT: 0.82\n",
      "DOM: T1038-D1, RMSD: 11.44, PLDDT: 0.66\n",
      "DOM: T1038-D1, RMSD: 5.56, PLDDT: 0.64\n",
      "DOM: T1038-D1, RMSD: 2.01, PLDDT: 0.84\n",
      "DOM: T1038-D1, RMSD: 8.55, PLDDT: 0.66\n",
      "DOM: T1038-D1, RMSD: 2.06, PLDDT: 0.85\n",
      "DOM: T1038-D1, RMSD: 7.67, PLDDT: 0.50\n",
      "DOM: T1038-D1, RMSD: 9.27, PLDDT: 0.62\n",
      "DOM: T1038-D1, RMSD: 4.12, PLDDT: 0.75\n",
      "DOM: T1038-D1, RMSD: 2.27, PLDDT: 0.81\n",
      "DOM: T1038-D1, RMSD: 9.66, PLDDT: 0.62\n",
      "DOM: T1038-D1, RMSD: 5.16, PLDDT: 0.77\n",
      "DOM: T1038-D1, RMSD: 7.27, PLDDT: 0.62\n",
      "DOM: T1038-D1, RMSD: 2.14, PLDDT: 0.85\n",
      "DOM: T1038-D1, RMSD: 4.06, PLDDT: 0.70\n",
      "DOM: T1038-D1, RMSD: 3.44, PLDDT: 0.76\n",
      "DOM: T1038-D1, RMSD: 10.77, PLDDT: 0.67\n",
      "DOM: T1038-D1, RMSD: 2.01, PLDDT: 0.79\n",
      "DOM: T1038-D1, RMSD: 7.62, PLDDT: 0.66\n",
      "DOM: T1038-D1, RMSD: 1.91, PLDDT: 0.85\n",
      "DOM: T1038-D1, RMSD: 3.79, PLDDT: 0.69\n",
      "DOM: T1038-D1, RMSD: 6.96, PLDDT: 0.68\n",
      "DOM: T1038-D1, RMSD: 8.11, PLDDT: 0.65\n",
      "DOM: T1038-D1, RMSD: 2.11, PLDDT: 0.83\n",
      "DOM: T1038-D1, RMSD: 12.51, PLDDT: 0.70\n",
      "DOM: T1038-D1, RMSD: 9.12, PLDDT: 0.58\n",
      "DOM: T1038-D1, RMSD: 8.47, PLDDT: 0.63\n",
      "DOM: T1038-D1, RMSD: 2.19, PLDDT: 0.81\n",
      "DOM: T1038-D1, RMSD: 2.21, PLDDT: 0.84\n",
      "DOM: T1038-D1, RMSD: 9.79, PLDDT: 0.70\n",
      "DOM: T1038-D1, RMSD: 5.46, PLDDT: 0.71\n",
      "DOM: T1038-D1, RMSD: 9.48, PLDDT: 0.59\n",
      "DOM: T1038-D1, RMSD: 5.17, PLDDT: 0.76\n",
      "DOM: T1043-D1, RMSD: 19.56, PLDDT: 0.37\n",
      "DOM: T1043-D1, RMSD: 17.96, PLDDT: 0.36\n",
      "DOM: T1043-D1, RMSD: 17.77, PLDDT: 0.38\n",
      "DOM: T1043-D1, RMSD: 19.32, PLDDT: 0.39\n",
      "DOM: T1043-D1, RMSD: 16.24, PLDDT: 0.33\n",
      "DOM: T1043-D1, RMSD: 19.46, PLDDT: 0.37\n",
      "DOM: T1043-D1, RMSD: 19.58, PLDDT: 0.37\n",
      "DOM: T1043-D1, RMSD: 18.70, PLDDT: 0.35\n",
      "DOM: T1043-D1, RMSD: 20.04, PLDDT: 0.36\n",
      "DOM: T1043-D1, RMSD: 18.25, PLDDT: 0.38\n",
      "DOM: T1043-D1, RMSD: 19.19, PLDDT: 0.35\n",
      "DOM: T1043-D1, RMSD: 17.78, PLDDT: 0.35\n",
      "DOM: T1043-D1, RMSD: 19.65, PLDDT: 0.37\n",
      "DOM: T1043-D1, RMSD: 18.58, PLDDT: 0.37\n",
      "DOM: T1043-D1, RMSD: 19.00, PLDDT: 0.36\n",
      "DOM: T1043-D1, RMSD: 20.10, PLDDT: 0.37\n",
      "DOM: T1043-D1, RMSD: 19.03, PLDDT: 0.38\n",
      "DOM: T1043-D1, RMSD: 20.04, PLDDT: 0.40\n",
      "DOM: T1043-D1, RMSD: 19.52, PLDDT: 0.37\n",
      "DOM: T1043-D1, RMSD: 19.41, PLDDT: 0.38\n",
      "DOM: T1043-D1, RMSD: 17.82, PLDDT: 0.34\n",
      "DOM: T1043-D1, RMSD: 19.59, PLDDT: 0.36\n",
      "DOM: T1043-D1, RMSD: 18.19, PLDDT: 0.35\n",
      "DOM: T1043-D1, RMSD: 19.85, PLDDT: 0.36\n",
      "DOM: T1043-D1, RMSD: 20.02, PLDDT: 0.35\n",
      "DOM: T1043-D1, RMSD: 20.25, PLDDT: 0.34\n",
      "DOM: T1043-D1, RMSD: 19.39, PLDDT: 0.36\n",
      "DOM: T1043-D1, RMSD: 19.04, PLDDT: 0.35\n",
      "DOM: T1043-D1, RMSD: 18.65, PLDDT: 0.33\n",
      "DOM: T1043-D1, RMSD: 19.31, PLDDT: 0.38\n",
      "DOM: T1043-D1, RMSD: 18.49, PLDDT: 0.33\n",
      "DOM: T1043-D1, RMSD: 18.68, PLDDT: 0.34\n",
      "DOM: T1043-D1, RMSD: 19.17, PLDDT: 0.36\n",
      "DOM: T1043-D1, RMSD: 19.61, PLDDT: 0.38\n",
      "DOM: T1043-D1, RMSD: 19.41, PLDDT: 0.36\n",
      "DOM: T1043-D1, RMSD: 18.44, PLDDT: 0.36\n",
      "DOM: T1043-D1, RMSD: 19.10, PLDDT: 0.36\n",
      "DOM: T1043-D1, RMSD: 19.33, PLDDT: 0.38\n",
      "DOM: T1043-D1, RMSD: 19.43, PLDDT: 0.36\n",
      "DOM: T1043-D1, RMSD: 19.71, PLDDT: 0.38\n",
      "DOM: T1043-D1, RMSD: 20.29, PLDDT: 0.34\n",
      "DOM: T1043-D1, RMSD: 19.82, PLDDT: 0.38\n",
      "DOM: T1043-D1, RMSD: 18.56, PLDDT: 0.39\n",
      "DOM: T1043-D1, RMSD: 18.88, PLDDT: 0.36\n",
      "DOM: T1043-D1, RMSD: 19.86, PLDDT: 0.37\n",
      "DOM: T1043-D1, RMSD: 20.28, PLDDT: 0.36\n",
      "DOM: T1043-D1, RMSD: 17.72, PLDDT: 0.34\n",
      "DOM: T1043-D1, RMSD: 18.64, PLDDT: 0.37\n",
      "DOM: T1043-D1, RMSD: 19.74, PLDDT: 0.37\n",
      "DOM: T1043-D1, RMSD: 17.86, PLDDT: 0.36\n",
      "DOM: T1064-D1, RMSD: 13.86, PLDDT: 0.35\n",
      "DOM: T1064-D1, RMSD: 3.58, PLDDT: 0.55\n",
      "DOM: T1064-D1, RMSD: 3.70, PLDDT: 0.51\n",
      "DOM: T1064-D1, RMSD: 13.01, PLDDT: 0.39\n",
      "DOM: T1064-D1, RMSD: 3.38, PLDDT: 0.53\n",
      "DOM: T1064-D1, RMSD: 7.73, PLDDT: 0.53\n",
      "DOM: T1064-D1, RMSD: 3.81, PLDDT: 0.50\n",
      "DOM: T1064-D1, RMSD: 3.76, PLDDT: 0.53\n",
      "DOM: T1064-D1, RMSD: 3.80, PLDDT: 0.52\n",
      "DOM: T1064-D1, RMSD: 5.54, PLDDT: 0.53\n"
     ]
    },
    {
     "name": "stdout",
     "output_type": "stream",
     "text": [
      "DOM: T1064-D1, RMSD: 3.72, PLDDT: 0.58\n",
      "DOM: T1064-D1, RMSD: 11.94, PLDDT: 0.41\n",
      "DOM: T1064-D1, RMSD: 3.46, PLDDT: 0.52\n",
      "DOM: T1064-D1, RMSD: 12.08, PLDDT: 0.41\n",
      "DOM: T1064-D1, RMSD: 11.55, PLDDT: 0.44\n",
      "DOM: T1064-D1, RMSD: 5.91, PLDDT: 0.49\n",
      "DOM: T1064-D1, RMSD: 12.00, PLDDT: 0.39\n",
      "DOM: T1064-D1, RMSD: 3.88, PLDDT: 0.56\n",
      "DOM: T1064-D1, RMSD: 4.29, PLDDT: 0.58\n",
      "DOM: T1064-D1, RMSD: 3.77, PLDDT: 0.55\n",
      "DOM: T1064-D1, RMSD: 8.55, PLDDT: 0.48\n",
      "DOM: T1064-D1, RMSD: 3.44, PLDDT: 0.51\n",
      "DOM: T1064-D1, RMSD: 11.58, PLDDT: 0.37\n",
      "DOM: T1064-D1, RMSD: 3.31, PLDDT: 0.54\n",
      "DOM: T1064-D1, RMSD: 12.44, PLDDT: 0.38\n",
      "DOM: T1064-D1, RMSD: 11.08, PLDDT: 0.39\n",
      "DOM: T1064-D1, RMSD: 4.32, PLDDT: 0.51\n",
      "DOM: T1064-D1, RMSD: 12.03, PLDDT: 0.41\n",
      "DOM: T1064-D1, RMSD: 5.86, PLDDT: 0.50\n",
      "DOM: T1064-D1, RMSD: 3.91, PLDDT: 0.50\n",
      "DOM: T1064-D1, RMSD: 8.41, PLDDT: 0.52\n",
      "DOM: T1064-D1, RMSD: 12.30, PLDDT: 0.38\n",
      "DOM: T1064-D1, RMSD: 12.95, PLDDT: 0.37\n",
      "DOM: T1064-D1, RMSD: 12.33, PLDDT: 0.38\n",
      "DOM: T1064-D1, RMSD: 3.87, PLDDT: 0.51\n",
      "DOM: T1064-D1, RMSD: 7.65, PLDDT: 0.50\n",
      "DOM: T1064-D1, RMSD: 5.31, PLDDT: 0.52\n",
      "DOM: T1064-D1, RMSD: 11.24, PLDDT: 0.41\n",
      "DOM: T1064-D1, RMSD: 3.89, PLDDT: 0.54\n",
      "DOM: T1064-D1, RMSD: 3.37, PLDDT: 0.62\n",
      "DOM: T1064-D1, RMSD: 3.62, PLDDT: 0.51\n",
      "DOM: T1064-D1, RMSD: 11.63, PLDDT: 0.50\n",
      "DOM: T1064-D1, RMSD: 4.61, PLDDT: 0.52\n",
      "DOM: T1064-D1, RMSD: 3.70, PLDDT: 0.50\n",
      "DOM: T1064-D1, RMSD: 13.34, PLDDT: 0.39\n",
      "DOM: T1064-D1, RMSD: 4.30, PLDDT: 0.61\n",
      "DOM: T1064-D1, RMSD: 4.11, PLDDT: 0.51\n",
      "DOM: T1064-D1, RMSD: 11.37, PLDDT: 0.37\n",
      "DOM: T1064-D1, RMSD: 14.59, PLDDT: 0.38\n",
      "DOM: T1064-D1, RMSD: 3.54, PLDDT: 0.54\n"
     ]
    }
   ],
   "source": [
    "md = model_d()\n",
    "md_mask = model_d(mask= True)\n",
    "mask_pairs = []\n",
    "for DOM in [\"T1070-D1\",\"T1039-D1\",\"T1038-D1\",\"T1043-D1\",\"T1064-D1\"]:\n",
    "    mask = []\n",
    "    INPUTS = prep_inputs(DOM)\n",
    "    for i in range(50):\n",
    "        _, output_init_msa = drop_and_run_af(md_mask, DOM, seed = i)\n",
    "        r = rmsd(INPUTS,output_init_msa)\n",
    "        p = mean_plddt(output_init_msa)\n",
    "        print(f\"DOM: {DOM}, RMSD: {r:.2f}, PLDDT: {p:.2f}\")\n",
    "        mask.append([p,r])\n",
    "    mask_pairs.append(mask)"
   ]
  },
  {
   "cell_type": "code",
   "execution_count": 17,
   "metadata": {},
   "outputs": [
    {
     "name": "stdout",
     "output_type": "stream",
     "text": [
      "DOM: T1070-D1, RMSD: 9.91, PLDDT: 0.64\n",
      "DOM: T1039-D1, RMSD: 7.62, PLDDT: 0.47\n",
      "DOM: T1038-D1, RMSD: 2.04, PLDDT: 0.83\n",
      "DOM: T1043-D1, RMSD: 19.82, PLDDT: 0.35\n",
      "DOM: T1064-D1, RMSD: 3.46, PLDDT: 0.52\n"
     ]
    }
   ],
   "source": [
    "no_mask_pairs = []\n",
    "for DOM in [\"T1070-D1\",\"T1039-D1\",\"T1038-D1\",\"T1043-D1\",\"T1064-D1\"]:\n",
    "    INPUTS = prep_inputs(DOM)\n",
    "    _, output_init_msa = drop_and_run_af(md, DOM, seed = i)\n",
    "    r = rmsd(INPUTS,output_init_msa)\n",
    "    p = mean_plddt(output_init_msa)\n",
    "    print(f\"DOM: {DOM}, RMSD: {r:.2f}, PLDDT: {p:.2f}\")\n",
    "    no_mask_pairs.append([p,r])"
   ]
  },
  {
   "cell_type": "code",
   "execution_count": 18,
   "metadata": {},
   "outputs": [],
   "source": [
    "#pickle.dump((mask_pairs,no_mask_pairs, [\"T1070-D1\",\"T1039-D1\",\"T1038-D1\",\"T1043-D1\",\"T1064-D1\"] ),open(\"sens_to_mask_data\", \"wb\"))"
   ]
  },
  {
   "cell_type": "code",
   "execution_count": 14,
   "metadata": {},
   "outputs": [],
   "source": [
    "mask_pairs,no_mask_pairs, DOMS = pickle.load(open(\"sens_to_mask_data\", \"rb\"))"
   ]
  },
  {
   "cell_type": "code",
   "execution_count": 22,
   "metadata": {},
   "outputs": [
    {
     "data": {
      "image/png": "[encoded data removed]",
      "text/plain": [
       "<Figure size 1728x360 with 4 Axes>"
      ]
     },
     "metadata": {
      "needs_background": "light"
     },
     "output_type": "display_data"
    }
   ],
   "source": [
    "plt.rcParams.update({'font.size': 18})\n",
    "\n",
    "#DOMS = [\"T1070-D1\",\"T1039-D1\",\"T1038-D1\",\"T1043-D1\",\"T1064-D1\"]\n",
    "fig, ax = plt.subplots(1,4, figsize=(24,5))\n",
    "fig.subplots_adjust(wspace=.3)\n",
    "k = 0\n",
    "for i in [4,1,0,3]:\n",
    "    ax[k].hist([j[1] for j in mask_pairs[i]], bins = np.arange(0,20,1))\n",
    "    ax[k].vlines(no_mask_pairs[i][1], 0 ,20, color = 'black')\n",
    "    ax[k].set_ylim(0,20)\n",
    "    ax[k].set_xlabel(\"RMSD\")\n",
    "    ax[k].set_ylabel(\"Count\")\n",
    "    ax[k].set_title(DOMS[i], fontsize = 18)\n",
    "    k +=1 \n",
    "plt.savefig(f\"../figures/mask_sensitivity.svg\", bbox_inches='tight')\n"
   ]
  },
  {
   "cell_type": "markdown",
   "metadata": {},
   "source": [
    "# Remove individual sequences"
   ]
  },
  {
   "cell_type": "code",
   "execution_count": 15,
   "metadata": {},
   "outputs": [],
   "source": [
    "md = model_d()"
   ]
  },
  {
   "cell_type": "code",
   "execution_count": 17,
   "metadata": {},
   "outputs": [
    {
     "name": "stdout",
     "output_type": "stream",
     "text": [
      "for MMSEQS MSA,  RMSD: 9.91, PLDDT: 0.64\n",
      "for our MSA,  RMSD: 2.74, PLDDT: 0.91\n",
      "removing seq 1\n",
      "removing seq 2\n",
      "removing seq 3\n",
      "removing seq 4\n",
      "removing seq 5\n",
      "removing seq 6\n",
      "removing seq 7\n",
      "removing seq 8\n",
      "removing seq 9\n",
      "removing seq 10\n",
      "removing seq 11\n",
      "removing seq 12\n",
      "removing seq 13\n",
      "removing seq 14\n",
      "removing seq 15\n",
      "removing seq 16\n",
      "removing seq 17\n",
      "removing seq 18\n",
      "removing seq 19\n",
      "removing seq 20\n",
      "removing seq 21\n",
      "removing seq 22\n",
      "removing seq 23\n",
      "removing seq 24\n",
      "removing seq 25\n",
      "removing seq 26\n",
      "removing seq 27\n",
      "removing seq 28\n",
      "removing seq 29\n",
      "removing seq 30\n",
      "removing seq 31\n",
      "removing seq 32\n",
      "removing seq 33\n",
      "removing seq 34\n",
      "removing seq 35\n",
      "removing seq 36\n",
      "removing seq 37\n",
      "removing seq 38\n",
      "removing seq 39\n",
      "removing seq 40\n",
      "removing seq 41\n",
      "removing seq 42\n",
      "removing seq 43\n",
      "removing seq 44\n",
      "removing seq 45\n",
      "removing seq 46\n",
      "removing seq 47\n",
      "removing seq 48\n",
      "removing seq 49\n",
      "removing seq 50\n",
      "removing seq 51\n",
      "removing seq 52\n",
      "removing seq 53\n",
      "removing seq 54\n",
      "removing seq 55\n",
      "removing seq 56\n",
      "removing seq 57\n",
      "removing seq 58\n",
      "removing seq 59\n",
      "removing seq 60\n",
      "removing seq 61\n",
      "removing seq 62\n",
      "removing seq 63\n",
      "removing seq 64\n",
      "removing seq 65\n",
      "removing seq 66\n",
      "removing seq 67\n",
      "removing seq 68\n",
      "removing seq 69\n",
      "removing seq 70\n",
      "removing seq 71\n",
      "removing seq 72\n",
      "removing seq 73\n",
      "removing seq 74\n",
      "removing seq 75\n",
      "removing seq 76\n",
      "removing seq 77\n",
      "removing seq 78\n",
      "removing seq 79\n",
      "removing seq 80\n",
      "removing seq 1\n",
      "removing seq 2\n",
      "removing seq 3\n",
      "removing seq 4\n",
      "removing seq 5\n",
      "removing seq 6\n",
      "removing seq 7\n",
      "removing seq 8\n",
      "removing seq 9\n",
      "removing seq 10\n",
      "removing seq 11\n",
      "removing seq 12\n",
      "removing seq 13\n",
      "removing seq 14\n",
      "removing seq 15\n",
      "removing seq 16\n",
      "removing seq 17\n",
      "removing seq 18\n",
      "removing seq 19\n",
      "removing seq 20\n",
      "removing seq 21\n",
      "removing seq 22\n",
      "removing seq 23\n",
      "removing seq 24\n",
      "removing seq 25\n",
      "removing seq 26\n",
      "removing seq 27\n",
      "removing seq 28\n",
      "removing seq 29\n",
      "removing seq 30\n",
      "removing seq 31\n",
      "removing seq 32\n",
      "removing seq 33\n",
      "removing seq 34\n",
      "removing seq 35\n",
      "removing seq 36\n",
      "removing seq 37\n",
      "removing seq 38\n",
      "removing seq 39\n",
      "removing seq 40\n",
      "removing seq 41\n",
      "removing seq 42\n",
      "removing seq 43\n",
      "removing seq 44\n",
      "removing seq 45\n",
      "removing seq 46\n",
      "removing seq 47\n",
      "removing seq 48\n",
      "removing seq 49\n",
      "removing seq 50\n",
      "removing seq 51\n",
      "removing seq 52\n",
      "removing seq 53\n",
      "removing seq 54\n",
      "removing seq 55\n",
      "removing seq 56\n",
      "removing seq 57\n",
      "removing seq 58\n",
      "removing seq 59\n",
      "removing seq 60\n",
      "removing seq 61\n",
      "removing seq 62\n",
      "removing seq 63\n",
      "removing seq 64\n",
      "removing seq 65\n",
      "removing seq 66\n",
      "removing seq 67\n",
      "removing seq 68\n",
      "removing seq 69\n",
      "removing seq 70\n",
      "removing seq 71\n",
      "removing seq 72\n",
      "removing seq 73\n",
      "removing seq 74\n",
      "removing seq 75\n",
      "removing seq 76\n",
      "removing seq 77\n",
      "removing seq 78\n",
      "removing seq 79\n",
      "removing seq 80\n"
     ]
    }
   ],
   "source": [
    "#data_to_plot = {}\n",
    "for DOM in [\"T1070-D1\"]:\n",
    "#for DOM in [\"T1039-D1\",\"T1064-D1\",\"T1070-D1\"]:\n",
    "    prefix = f\"../data_for_AF_figures/{DOM}_e_None_t_Gentle_Cool/\"\n",
    "    middle = \".None.random\"\n",
    "    outputs = pickle.load(open(prefix+DOM+middle+\".out_dict.best\", \"rb\"))\n",
    "    opt_msa = outputs[\"msa\"]\n",
    "    INPUTS = prep_inputs(DOM)\n",
    "    _, output_init_msa = drop_and_run_af(md, DOM)\n",
    "    _, output_opt_msa = drop_and_run_af(md, DOM,  mod_msa = opt_msa)\n",
    "    print(f\"for MMSEQS MSA,  RMSD: {rmsd(INPUTS, output_init_msa):.2f}, PLDDT: {mean_plddt(output_init_msa):.2f}\")\n",
    "    print(f\"for our MSA,  RMSD: {rmsd(INPUTS, output_opt_msa):.2f}, PLDDT: {mean_plddt(output_opt_msa):.2f}\")\n",
    "    drop_init = drop_each_seq(md, DOM)\n",
    "    drop_opt = drop_each_seq(md, DOM, mod_msa = opt_msa)\n",
    "    data_to_plot[DOM] = (eval_lists[DOM][1:], drop_init, drop_opt, INPUTS, output_opt_msa, output_init_msa)\n",
    "#    pickle.dump(data_to_plot, open(f\"data_to_plot_for_drop\",\"wb\"))"
   ]
  },
  {
   "cell_type": "code",
   "execution_count": 37,
   "metadata": {},
   "outputs": [],
   "source": [
    "data_to_plot = pickle.load( open(f\"data_to_plot_for_drop\",\"rb\"))"
   ]
  },
  {
   "cell_type": "code",
   "execution_count": 18,
   "metadata": {},
   "outputs": [],
   "source": [
    "thresh = {}\n",
    "thresh[\"T1039-D1\"] = 1e-15\n",
    "thresh[\"T1064-D1\"] = 1e-3\n",
    "thresh[\"T1070-D1\"] = 1e-3"
   ]
  },
  {
   "cell_type": "code",
   "execution_count": 45,
   "metadata": {},
   "outputs": [
    {
     "data": {
      "image/png": "[encoded data removed]",
      "text/plain": [
       "<Figure size 360x360 with 1 Axes>"
      ]
     },
     "metadata": {
      "needs_background": "light"
     },
     "output_type": "display_data"
    }
   ],
   "source": [
    "for n, DOM in enumerate([\"T1039-D1\"]):\n",
    "    eval_lists[DOM][1:], drop_init, drop_opt, INPUTS, output_opt_msa, output_init_msa = data_to_plot[DOM]\n",
    "    scatter_by_eval(eval_lists[DOM][1:], drop_init, drop_opt, INPUTS, output_opt_msa, output_init_msa, legend = (n==2), title = DOM, v = thresh[DOM], xrange= (1e-35, 10))\n"
   ]
  },
  {
   "cell_type": "code",
   "execution_count": 46,
   "metadata": {},
   "outputs": [
    {
     "data": {
      "image/png": "[encoded data removed]",
      "text/plain": [
       "<Figure size 360x360 with 1 Axes>"
      ]
     },
     "metadata": {
      "needs_background": "light"
     },
     "output_type": "display_data"
    },
    {
     "data": {
      "image/png": "[encoded data removed]",
      "text/plain": [
       "<Figure size 360x360 with 1 Axes>"
      ]
     },
     "metadata": {
      "needs_background": "light"
     },
     "output_type": "display_data"
    },
    {
     "data": {
      "image/png": "[encoded data removed]",
      "text/plain": [
       "<Figure size 360x360 with 1 Axes>"
      ]
     },
     "metadata": {
      "needs_background": "light"
     },
     "output_type": "display_data"
    }
   ],
   "source": [
    "for n, DOM in enumerate([\"T1039-D1\",\"T1064-D1\",\"T1070-D1\"]):\n",
    "    eval_lists[DOM][1:], drop_init, drop_opt, INPUTS, output_opt_msa, output_init_msa = data_to_plot[DOM]\n",
    "    scatter_by_eval(eval_lists[DOM][1:], drop_init, drop_opt, INPUTS, output_opt_msa, output_init_msa, legend = (n==2), title = DOM, v = thresh[DOM])\n"
   ]
  },
  {
   "cell_type": "markdown",
   "metadata": {},
   "source": [
    "# Remove distant sequences"
   ]
  },
  {
   "cell_type": "code",
   "execution_count": 16,
   "metadata": {},
   "outputs": [],
   "source": [
    "def idx_below_thresh(t, evals):\n",
    "    return [_ for _ in range(len(evals)) if evals[_]<t]"
   ]
  },
  {
   "cell_type": "code",
   "execution_count": 19,
   "metadata": {},
   "outputs": [
    {
     "name": "stdout",
     "output_type": "stream",
     "text": [
      "20 2\n",
      "14 12\n",
      "81 73\n"
     ]
    }
   ],
   "source": [
    "#sizes of MSAs\n",
    "for DOM in [\"T1039-D1\",\"T1064-D1\",\"T1070-D1\"]:\n",
    "    restrict_to = idx_below_thresh(thresh[DOM], eval_lists[DOM])\n",
    "    print(len(eval_lists[DOM]), len(restrict_to))\n"
   ]
  },
  {
   "cell_type": "code",
   "execution_count": 20,
   "metadata": {},
   "outputs": [
    {
     "name": "stdout",
     "output_type": "stream",
     "text": [
      "for MMSEQS MSA\n",
      "\n",
      "restrict to seqs: [0, 1], RMSD: 2.79, PLDDT: 0.74\n",
      "for our MSA\n",
      "\n",
      "restrict to seqs: [0, 1], RMSD: 2.91, PLDDT: 0.84\n",
      "for MMSEQS MSA\n",
      "\n",
      "restrict to seqs: [0], RMSD: 14.41, PLDDT: 0.45\n",
      "for MMSEQS MSA\n",
      "\n",
      "restrict to seqs: [0, 1, 2, 3, 4, 5, 6, 7, 8, 9, 12, 13], RMSD: 12.11, PLDDT: 0.41\n",
      "for our MSA\n",
      "\n",
      "restrict to seqs: [0, 1, 2, 3, 4, 5, 6, 7, 8, 9, 12, 13], RMSD: 2.48, PLDDT: 0.70\n",
      "for MMSEQS MSA\n",
      "\n",
      "restrict to seqs: [0], RMSD: 12.25, PLDDT: 0.34\n",
      "for MMSEQS MSA\n",
      "\n",
      "restrict to seqs: [0, 1, 2, 3, 4, 5, 6, 7, 8, 9, 10, 11, 12, 13, 14, 15, 16, 21, 22, 23, 24, 25, 26, 27, 28, 29, 30, 31, 32, 33, 34, 35, 36, 37, 38, 39, 40, 41, 42, 43, 44, 45, 46, 47, 48, 49, 50, 51, 52, 53, 54, 55, 56, 57, 58, 59, 60, 61, 62, 63, 64, 65, 66, 67, 68, 69, 70, 71, 72, 73, 74, 75, 76], RMSD: 4.51, PLDDT: 0.68\n",
      "for our MSA\n",
      "\n",
      "restrict to seqs: [0, 1, 2, 3, 4, 5, 6, 7, 8, 9, 10, 11, 12, 13, 14, 15, 16, 21, 22, 23, 24, 25, 26, 27, 28, 29, 30, 31, 32, 33, 34, 35, 36, 37, 38, 39, 40, 41, 42, 43, 44, 45, 46, 47, 48, 49, 50, 51, 52, 53, 54, 55, 56, 57, 58, 59, 60, 61, 62, 63, 64, 65, 66, 67, 68, 69, 70, 71, 72, 73, 74, 75, 76], RMSD: 2.71, PLDDT: 0.91\n",
      "for MMSEQS MSA\n",
      "\n",
      "restrict to seqs: [0], RMSD: 11.56, PLDDT: 0.44\n"
     ]
    }
   ],
   "source": [
    "for_df = []\n",
    "for DOM in [\"T1039-D1\",\"T1064-D1\",\"T1070-D1\"]:\n",
    "    prefix = f\"../data_for_AF_figures/{DOM}_e_None_t_Gentle_Cool/\"\n",
    "    middle = \".None.random\"\n",
    "    outputs = pickle.load(open(prefix+DOM+middle+\".out_dict.best\", \"rb\"))\n",
    "    opt_msa = outputs[\"msa\"]\n",
    "    INPUTS = prep_inputs(DOM)\n",
    "    \n",
    "    restrict_to = idx_below_thresh(thresh[DOM], eval_lists[DOM])\n",
    "    \n",
    "    # baseline MSAs\n",
    "    _, output_init_msa = drop_and_run_af(md, DOM)\n",
    "    _, output_opt_msa = drop_and_run_af(md, DOM,  mod_msa = opt_msa)\n",
    "    \n",
    "    \n",
    "    #restricted MSAs\n",
    "    rmsd_init_msa_r = restrict_and_print_error(md, DOM, [restrict_to] , mod_msa= None)\n",
    "    rmsd_opt_msa_r = restrict_and_print_error(md, DOM, [restrict_to] , mod_msa= opt_msa)\n",
    "    \n",
    "    # just query seq\n",
    "    rmsd_q = restrict_and_print_error(md, DOM, [[0]], mod_msa= None)\n",
    "    for_df.append([DOM, rmsd(INPUTS, output_init_msa), rmsd(INPUTS, output_opt_msa), rmsd_init_msa_r, rmsd_opt_msa_r, rmsd_q])\n",
    "\n",
    "df = pd.DataFrame(for_df, columns = ['Domain', 'MMSeq2 MSA','Learned MSA', 'Restricted MMSeq2 MSA','Restricted Learned MSA', \"Query only\"])\n",
    "pickle.dump(df, open(f\"rmsd_restricted_df\",\"wb\"))"
   ]
  },
  {
   "cell_type": "code",
   "execution_count": 62,
   "metadata": {},
   "outputs": [],
   "source": [
    "df = pickle.load(open(f\"rmsd_restricted_df\",\"rb\"))"
   ]
  },
  {
   "cell_type": "code",
   "execution_count": 63,
   "metadata": {},
   "outputs": [],
   "source": [
    "df = df.set_index(\"Domain\")\n",
    "df = df[['Query only', 'MMSeq2 MSA', 'Restricted MMSeq2 MSA','Learned MSA', 'Restricted Learned MSA']]"
   ]
  },
  {
   "cell_type": "code",
   "execution_count": 64,
   "metadata": {},
   "outputs": [
    {
     "data": {
      "text/html": [
       "<div>\n",
       "<style scoped>\n",
       "    .dataframe tbody tr th:only-of-type {\n",
       "        vertical-align: middle;\n",
       "    }\n",
       "\n",
       "    .dataframe tbody tr th {\n",
       "        vertical-align: top;\n",
       "    }\n",
       "\n",
       "    .dataframe thead th {\n",
       "        text-align: right;\n",
       "    }\n",
       "</style>\n",
       "<table border=\"1\" class=\"dataframe\">\n",
       "  <thead>\n",
       "    <tr style=\"text-align: right;\">\n",
       "      <th></th>\n",
       "      <th>Query only</th>\n",
       "      <th>MMSeq2 MSA</th>\n",
       "      <th>Restricted MMSeq2 MSA</th>\n",
       "      <th>Learned MSA</th>\n",
       "      <th>Restricted Learned MSA</th>\n",
       "    </tr>\n",
       "    <tr>\n",
       "      <th>Domain</th>\n",
       "      <th></th>\n",
       "      <th></th>\n",
       "      <th></th>\n",
       "      <th></th>\n",
       "      <th></th>\n",
       "    </tr>\n",
       "  </thead>\n",
       "  <tbody>\n",
       "    <tr>\n",
       "      <th>T1064-D1</th>\n",
       "      <td>12.249804</td>\n",
       "      <td>3.455900</td>\n",
       "      <td>12.111107</td>\n",
       "      <td>1.478327</td>\n",
       "      <td>2.483016</td>\n",
       "    </tr>\n",
       "    <tr>\n",
       "      <th>T1039-D1</th>\n",
       "      <td>14.414209</td>\n",
       "      <td>7.617135</td>\n",
       "      <td>2.787596</td>\n",
       "      <td>2.659266</td>\n",
       "      <td>2.912428</td>\n",
       "    </tr>\n",
       "    <tr>\n",
       "      <th>T1070-D1</th>\n",
       "      <td>11.556510</td>\n",
       "      <td>9.905559</td>\n",
       "      <td>4.511048</td>\n",
       "      <td>2.745706</td>\n",
       "      <td>2.705894</td>\n",
       "    </tr>\n",
       "  </tbody>\n",
       "</table>\n",
       "</div>"
      ],
      "text/plain": [
       "          Query only  MMSeq2 MSA  Restricted MMSeq2 MSA  Learned MSA  \\\n",
       "Domain                                                                 \n",
       "T1064-D1   12.249804    3.455900              12.111107     1.478327   \n",
       "T1039-D1   14.414209    7.617135               2.787596     2.659266   \n",
       "T1070-D1   11.556510    9.905559               4.511048     2.745706   \n",
       "\n",
       "          Restricted Learned MSA  \n",
       "Domain                            \n",
       "T1064-D1                2.483016  \n",
       "T1039-D1                2.912428  \n",
       "T1070-D1                2.705894  "
      ]
     },
     "execution_count": 64,
     "metadata": {},
     "output_type": "execute_result"
    }
   ],
   "source": [
    "df = df.reindex([\"T1064-D1\",\"T1039-D1\",\"T1070-D1\"])\n",
    "df"
   ]
  },
  {
   "cell_type": "code",
   "execution_count": 65,
   "metadata": {},
   "outputs": [
    {
     "data": {
      "image/png": "[encoded data removed]",
      "text/plain": [
       "<Figure size 216x360 with 1 Axes>"
      ]
     },
     "metadata": {
      "needs_background": "light"
     },
     "output_type": "display_data"
    },
    {
     "data": {
      "image/png": "[encoded data removed]",
      "text/plain": [
       "<Figure size 216x360 with 1 Axes>"
      ]
     },
     "metadata": {
      "needs_background": "light"
     },
     "output_type": "display_data"
    },
    {
     "data": {
      "image/png": "[encoded data removed]",
      "text/plain": [
       "<Figure size 216x360 with 1 Axes>"
      ]
     },
     "metadata": {
      "needs_background": "light"
     },
     "output_type": "display_data"
    }
   ],
   "source": [
    "for DOM in [\"T1064-D1\",\"T1039-D1\",\"T1070-D1\"]:\n",
    "    dfr =df.filter(items = [DOM], axis=0)\n",
    "    plt.rcParams.update({'font.size': 18})\n",
    "    ax = dfr.plot.bar(rot=0,figsize = (3,5),  color = ['tab:green', 'tab:blue', 'lightblue', 'tab:orange', 'navajowhite'])\n",
    "    ax.set_ylabel(\"RMSD\")\n",
    "    ax.get_legend().remove()\n",
    "    #ax.legend(bbox_to_anchor=(1.05, 1.0), loc='upper left')\n",
    "    ax.grid(axis = 'y')\n",
    "    ax.set_ylim(1,17)\n",
    "    ax.set_yticks([2,4,6,8,10,12,14,16],[2,4,6,8,10,12,14,16]);\n",
    "    plt.savefig(f\"../figures/rmsd_compare_{DOM}.svg\", bbox_inches='tight')"
   ]
  },
  {
   "cell_type": "code",
   "execution_count": 57,
   "metadata": {},
   "outputs": [],
   "source": [
    "#T1064-D1 highest confidence prediction pLDDT, RMSD  (0.8761522, 1.5524526)\n",
    "#T1039-D1 highest confidence prediction pLDDT, RMSD  (0.8998832, 3.2341647)\n",
    "#T1070-D1 highest confidence prediction pLDDT, RMSD  (0.9123933, 1.9636279)\n",
    "\n",
    "df['MSA Learned on restricted set'] = [1.5524526, 3.2341647, 1.9636279 ]"
   ]
  },
  {
   "cell_type": "code",
   "execution_count": 58,
   "metadata": {},
   "outputs": [
    {
     "data": {
      "image/png": "[encoded data removed]",
      "text/plain": [
       "<Figure size 576x360 with 1 Axes>"
      ]
     },
     "metadata": {
      "needs_background": "light"
     },
     "output_type": "display_data"
    }
   ],
   "source": [
    "plt.rcParams.update({'font.size': 18})\n",
    "ax = df.plot.bar(rot=0,figsize = (8,5), edgecolor='white', linewidth=2, color = ['tab:green','tab:blue', 'lightblue', 'tab:orange', 'navajowhite', 'tab:purple'])\n",
    "ax.set_ylabel(\"RMSD\")\n",
    "ax.legend(bbox_to_anchor=(1.05, 1.0), loc='upper left')\n",
    "ax.grid(axis = 'y')\n",
    "plt.savefig(f\"../figures/rmsd_compare.svg\", bbox_inches='tight')\n"
   ]
  },
  {
   "cell_type": "code",
   "execution_count": null,
   "metadata": {},
   "outputs": [],
   "source": []
  }
 ],
 "metadata": {
  "accelerator": "GPU",
  "colab": {
   "include_colab_link": true,
   "name": "af_msa_backprop.ipynb",
   "provenance": []
  },
  "kernelspec": {
   "display_name": "Python 3 (ipykernel)",
   "language": "python",
   "name": "python3"
  },
  "language_info": {
   "codemirror_mode": {
    "name": "ipython",
    "version": 3
   },
   "file_extension": ".py",
   "mimetype": "text/x-python",
   "name": "python",
   "nbconvert_exporter": "python",
   "pygments_lexer": "ipython3",
   "version": "3.7.11"
  }
 },
 "nbformat": 4,
 "nbformat_minor": 1
}
